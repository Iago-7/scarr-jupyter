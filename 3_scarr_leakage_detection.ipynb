{
 "cells": [
  {
   "cell_type": "markdown",
   "metadata": {},
   "source": [
    "# SCARR Leakage Detection Examples"
   ]
  },
  {
   "cell_type": "markdown",
   "metadata": {},
   "source": [
    "## TVLA: Welch's t-test (first-order moment)"
   ]
  },
  {
   "cell_type": "code",
   "execution_count": null,
   "metadata": {},
   "outputs": [],
   "source": [
    "import zarr\n",
    "import matplotlib.pyplot as plt\n",
    "\n",
    "from scarr.engines.ttest import Ttest as ttest\n",
    "from scarr.file_handling.trace_handler import TraceHandler as th\n",
    "from scarr.container.container import Container, ContainerOptions\n",
    "\n",
    "handler1 = th(fileName='zarr-converted-tvla0_improved_compressed.zarr', batchSize=5000)\n",
    "handler2 = th(fileName='zarr-converted-tvla1_improved_compressed.zarr', batchSize=5000)\n",
    "\n",
    "engine = ttest()\n",
    "container = Container(options=ContainerOptions(engine=engine, handler=handler1, handler2=handler2))"
   ]
  },
  {
   "cell_type": "code",
   "execution_count": null,
   "metadata": {},
   "outputs": [],
   "source": [
    "engine.run(container)\n"
   ]
  },
  {
   "cell_type": "code",
   "execution_count": null,
   "metadata": {},
   "outputs": [],
   "source": [
    "results = engine.get_result()\n",
    "results.shape"
   ]
  },
  {
   "cell_type": "code",
   "execution_count": null,
   "metadata": {},
   "outputs": [],
   "source": [
    "import matplotlib.pyplot as plt\n",
    "print('SCARR Plot of Welch\\'s Test t-values')\n",
    "fig, ax = plt.subplots(figsize=(32, 4))\n",
    "ax.plot(results[0], color='red')\n",
    "ax.plot(results[0].shape[0]*[4.5], 'blue')\n",
    "ax.plot(results[0].shape[0]*[-4.5], 'blue')\n",
    "\n",
    "ax.set_xlabel('Samples')\n",
    "ax.set_ylabel('t-values')\n",
    "plt.show()"
   ]
  },
  {
   "cell_type": "markdown",
   "metadata": {},
   "source": [
    "## chi2test (Example 1)"
   ]
  },
  {
   "cell_type": "markdown",
   "metadata": {},
   "source": [
    "This is an example for \"Case Study 5\" from the paper: DL-LA: Deep Learning Leakage Assessment. Please note: the data set which they made available is less traces compared to what was used for creating the plots in the paper. Consequently, the chi2test scores are slightly lower."
   ]
  },
  {
   "cell_type": "code",
   "execution_count": null,
   "metadata": {},
   "outputs": [],
   "source": [
    "from scarr.engines.chi2test import Chi2Test as chisquared\n",
    "from scarr.file_handling.trace_handler import TraceHandler as th\n",
    "from scarr.container.container import Container, ContainerOptions\n",
    "\n",
    "handler1 = th(fileName='cs5_group0_even_compressed.zarr', batchSize=5000)\n",
    "handler2 = th(fileName='cs5_group1_even_compressed.zarr', batchSize=5000)\n",
    "\n",
    "#engine = chisquared(convergence_step=500_000)\n",
    "engine = chisquared()\n",
    "container = Container(options=ContainerOptions(engine=engine, handler=handler1, handler2=handler2))"
   ]
  },
  {
   "cell_type": "code",
   "execution_count": null,
   "metadata": {},
   "outputs": [],
   "source": [
    "engine.run(container)"
   ]
  },
  {
   "cell_type": "code",
   "execution_count": null,
   "metadata": {},
   "outputs": [],
   "source": [
    "results = engine.get_result()\n",
    "results.shape\n"
   ]
  },
  {
   "cell_type": "code",
   "execution_count": null,
   "metadata": {},
   "outputs": [],
   "source": [
    "import matplotlib.pyplot as plt\n",
    "print('SCARR Plot of chi-squared\\'s -log(p) values')\n",
    "fig, ax = plt.subplots(figsize=(32, 4))\n",
    "ax.plot(results[0,0,:], color='red')\n",
    "ax.set_xlabel('Samples')\n",
    "ax.set_ylabel('-log10(p)')\n",
    "plt.show()\n"
   ]
  },
  {
   "cell_type": "markdown",
   "metadata": {},
   "source": [
    "## chi2test (Example 2)"
   ]
  },
  {
   "cell_type": "markdown",
   "metadata": {},
   "source": [
    "This is a small demo to demonstrate p-value calculations with very small values (resulting in larger -log(p) values)."
   ]
  },
  {
   "cell_type": "code",
   "execution_count": null,
   "metadata": {},
   "outputs": [],
   "source": [
    "from scarr.engines.chi2test import Chi2Test as chisquared\n",
    "from scarr.file_handling.trace_handler import TraceHandler as th\n",
    "from scarr.container.container import Container, ContainerOptions\n",
    "\n",
    "handler1 = th(fileName='zarr-converted-tvla0_improved_compressed.zarr', batchSize=5000)\n",
    "handler2 = th(fileName='zarr-converted-tvla1_improved_compressed.zarr', batchSize=5000)\n",
    "\n",
    "#engine = chisquared(convergence_step=500_000)\n",
    "engine = chisquared()\n",
    "container = Container(options=ContainerOptions(engine=engine, handler=handler1, handler2=handler2))"
   ]
  },
  {
   "cell_type": "code",
   "execution_count": null,
   "metadata": {},
   "outputs": [],
   "source": [
    "engine.run(container)"
   ]
  },
  {
   "cell_type": "code",
   "execution_count": null,
   "metadata": {},
   "outputs": [],
   "source": [
    "results = engine.get_result()\n",
    "results.shape\n"
   ]
  },
  {
   "cell_type": "code",
   "execution_count": null,
   "metadata": {},
   "outputs": [],
   "source": [
    "import matplotlib.pyplot as plt\n",
    "print('SCARR Plot of chi-squared\\'s -log(p) values')\n",
    "fig, ax = plt.subplots(figsize=(32, 4))\n",
    "ax.plot(results[0,0,:], color='red')\n",
    "ax.set_xlabel('Samples')\n",
    "ax.set_ylabel('-log10(p)')\n",
    "plt.show()\n"
   ]
  },
  {
   "cell_type": "markdown",
   "metadata": {},
   "source": []
  }
 ],
 "metadata": {
  "kernelspec": {
   "display_name": "Python 3",
   "language": "python",
   "name": "python3"
  },
  "language_info": {
   "codemirror_mode": {
    "name": "ipython",
    "version": 3
   },
   "file_extension": ".py",
   "mimetype": "text/x-python",
   "name": "python",
   "nbconvert_exporter": "python",
   "pygments_lexer": "ipython3",
   "version": "3.10.12"
  },
  "orig_nbformat": 4
 },
 "nbformat": 4,
 "nbformat_minor": 2
}
